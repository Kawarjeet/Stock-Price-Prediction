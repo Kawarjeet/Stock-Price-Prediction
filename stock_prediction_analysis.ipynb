{
  "nbformat": 4,
  "nbformat_minor": 0,
  "metadata": {
    "colab": {
      "name": "stock_prediction_analysis.ipynb",
      "provenance": [],
      "authorship_tag": "ABX9TyMHchjlcPfz615XHWDlEryw",
      "include_colab_link": true
    },
    "kernelspec": {
      "name": "python3",
      "display_name": "Python 3"
    },
    "language_info": {
      "name": "python"
    }
  },
  "cells": [
    {
      "cell_type": "markdown",
      "metadata": {
        "id": "view-in-github",
        "colab_type": "text"
      },
      "source": [
        "<a href=\"https://colab.research.google.com/github/Kawarjeet/Stock-Price-Prediction/blob/main/stock_prediction_analysis.ipynb\" target=\"_parent\"><img src=\"https://colab.research.google.com/assets/colab-badge.svg\" alt=\"Open In Colab\"/></a>"
      ]
    },
    {
      "cell_type": "markdown",
      "source": [
        "# Stock Price Predition using:\n",
        "## 1. Linear Regression\n",
        "## 2. k-Nearest Neighbours\n",
        "## 3. Auto ARIMA\n",
        "## 4. Long Short Term Memory(LSTM)\n"
      ],
      "metadata": {
        "id": "v0ftw8Ub60gM"
      }
    },
    {
      "cell_type": "markdown",
      "source": [
        "---------------------------------------------------------------------------------------"
      ],
      "metadata": {
        "id": "bP3Epj6Y7Pdk"
      }
    },
    {
      "cell_type": "code",
      "source": [
        ""
      ],
      "metadata": {
        "id": "lIebYGPq7SZI"
      },
      "execution_count": null,
      "outputs": []
    },
    {
      "cell_type": "code",
      "source": [
        ""
      ],
      "metadata": {
        "id": "p8mBtsB_60Ff"
      },
      "execution_count": null,
      "outputs": []
    },
    {
      "cell_type": "code",
      "execution_count": null,
      "metadata": {
        "id": "xte3aaPb6CYv"
      },
      "outputs": [],
      "source": [
        ""
      ]
    }
  ]
}